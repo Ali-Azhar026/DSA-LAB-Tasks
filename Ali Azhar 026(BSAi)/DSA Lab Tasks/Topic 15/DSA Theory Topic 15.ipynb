{
 "cells": [
  {
   "cell_type": "markdown",
   "id": "fd5878de-3f15-40a2-9585-8efe74381d3c",
   "metadata": {},
   "source": [
    "# Task 1 \n",
    "## Solving the N-Queens Problem Using Backtracking "
   ]
  },
  {
   "cell_type": "code",
   "execution_count": 1,
   "id": "44559ea7-a849-4b76-b945-4db831c46334",
   "metadata": {},
   "outputs": [
    {
     "name": "stdout",
     "output_type": "stream",
     "text": [
      "Total Solutions for N=4: 2\n",
      ". Q . .\n",
      ". . . Q\n",
      "Q . . .\n",
      ". . Q .\n",
      "\n",
      ". . Q .\n",
      "Q . . .\n",
      ". . . Q\n",
      ". Q . .\n",
      "\n"
     ]
    }
   ],
   "source": [
    "def is_safe(board, row, col, n):\n",
    "    for i in range(row):\n",
    "        if board[i] == col or \\\n",
    "           board[i] - i == col - row or \\\n",
    "           board[i] + i == col + row:\n",
    "            return False\n",
    "    return True\n",
    "\n",
    "def solve_n_queens_util(board, row, n, solutions):\n",
    "    if row == n:\n",
    "        solutions.append(board[:])\n",
    "        return\n",
    "    \n",
    "    for col in range(n):\n",
    "        if is_safe(board, row, col, n):\n",
    "            board[row] = col\n",
    "            solve_n_queens_util(board, row + 1, n, solutions)\n",
    "\n",
    "def solve_n_queens(n):\n",
    "    board = [-1] * n\n",
    "    solutions = []\n",
    "    solve_n_queens_util(board, 0, n, solutions)\n",
    "    return solutions\n",
    "\n",
    "def print_solution(solutions):\n",
    "    for solution in solutions:\n",
    "        for row in solution:\n",
    "            print(\" \".join(\"Q\" if col == row else \".\" for col in range(len(solution))))\n",
    "        print()\n",
    "\n",
    "def test_n_queens():\n",
    "    n = 4\n",
    "    solutions = solve_n_queens(n)\n",
    "    print(f\"Total Solutions for N={n}: {len(solutions)}\")\n",
    "    print_solution(solutions)\n",
    "\n",
    "test_n_queens()"
   ]
  },
  {
   "cell_type": "markdown",
   "id": "84b74e54-8ae1-488b-a63e-b842b802c348",
   "metadata": {},
   "source": [
    "# Task 2  \n",
    "## Generating All Possible Permutations of a String "
   ]
  },
  {
   "cell_type": "code",
   "execution_count": 2,
   "id": "a5f43934-93a8-4695-8c8a-269b8fd14030",
   "metadata": {},
   "outputs": [
    {
     "name": "stdout",
     "output_type": "stream",
     "text": [
      "Generating permutations of 'abc':\n",
      "['abc', 'acb', 'bac', 'bca', 'cba', 'cab']\n",
      "\n",
      "Generating permutations of 'aab':\n",
      "['aab', 'aba', 'baa']\n"
     ]
    }
   ],
   "source": [
    "def generate_permutations(s):\n",
    "    def backtrack(start, s, result):\n",
    "        if start == len(s):\n",
    "            result.append(''.join(s))\n",
    "            return\n",
    "        \n",
    "        for i in range(start, len(s)):\n",
    "            if i > start and s[i] == s[start]:\n",
    "                continue\n",
    "            \n",
    "            s[start], s[i] = s[i], s[start]\n",
    "            backtrack(start + 1, s, result)\n",
    "            s[start], s[i] = s[i], s[start]\n",
    "    \n",
    "    result = []\n",
    "    s = list(s)\n",
    "    backtrack(0, s, result)\n",
    "    return result\n",
    "\n",
    "def test_generate_permutations():\n",
    "    input_str = \"abc\"\n",
    "    print(f\"Generating permutations of '{input_str}':\")\n",
    "    permutations = generate_permutations(input_str)\n",
    "    print(permutations)\n",
    "\n",
    "    input_str_large = \"aab\"\n",
    "    print(f\"\\nGenerating permutations of '{input_str_large}':\")\n",
    "    permutations_large = generate_permutations(input_str_large)\n",
    "    print(permutations_large)\n",
    "\n",
    "test_generate_permutations()"
   ]
  },
  {
   "cell_type": "markdown",
   "id": "5d644f20-8b47-42ac-a6ea-260e46c1846f",
   "metadata": {},
   "source": [
    "# Task 3 \n",
    "## Solving the Sudoku Puzzle Using Backtracking "
   ]
  },
  {
   "cell_type": "code",
   "execution_count": 3,
   "id": "1690042a-515f-4642-bd11-8f08096b7dee",
   "metadata": {},
   "outputs": [
    {
     "name": "stdout",
     "output_type": "stream",
     "text": [
      "Original Board:\n",
      "5 3 0 0 7 0 0 0 0\n",
      "6 0 0 1 9 5 0 0 0\n",
      "0 9 8 0 0 0 0 6 0\n",
      "8 0 0 0 6 0 0 0 3\n",
      "4 0 0 8 0 3 0 0 1\n",
      "7 0 0 0 2 0 0 0 6\n",
      "0 6 0 0 0 0 2 8 0\n",
      "0 0 0 4 1 9 0 0 5\n",
      "0 0 0 0 8 0 0 7 9\n",
      "\n",
      "Solved Sudoku:\n",
      "5 3 4 6 7 8 9 1 2\n",
      "6 7 2 1 9 5 3 4 8\n",
      "1 9 8 3 4 2 5 6 7\n",
      "8 5 9 7 6 1 4 2 3\n",
      "4 2 6 8 5 3 7 9 1\n",
      "7 1 3 9 2 4 8 5 6\n",
      "9 6 1 5 3 7 2 8 4\n",
      "2 8 7 4 1 9 6 3 5\n",
      "3 4 5 2 8 6 1 7 9\n"
     ]
    }
   ],
   "source": [
    "def is_valid(board, row, col, num):\n",
    "    for c in range(9):\n",
    "        if board[row][c] == num:\n",
    "            return False\n",
    "    for r in range(9):\n",
    "        if board[r][col] == num:\n",
    "            return False\n",
    "    start_row, start_col = 3 * (row // 3), 3 * (col // 3)\n",
    "    for r in range(start_row, start_row + 3):\n",
    "        for c in range(start_col, start_col + 3):\n",
    "            if board[r][c] == num:\n",
    "                return False\n",
    "    return True\n",
    "\n",
    "def solve_sudoku(board):\n",
    "    def backtrack():\n",
    "        for row in range(9):\n",
    "            for col in range(9):\n",
    "                if board[row][col] == 0:\n",
    "                    for num in range(1, 10):\n",
    "                        if is_valid(board, row, col, num):\n",
    "                            board[row][col] = num\n",
    "                            if backtrack():\n",
    "                                return True\n",
    "                            board[row][col] = 0\n",
    "                    return False\n",
    "        return True\n",
    "\n",
    "    backtrack()\n",
    "    return board\n",
    "\n",
    "def print_board(board):\n",
    "    for row in board:\n",
    "        print(\" \".join(str(cell) for cell in row))\n",
    "\n",
    "example_board = [\n",
    "    [5, 3, 0, 0, 7, 0, 0, 0, 0],\n",
    "    [6, 0, 0, 1, 9, 5, 0, 0, 0],\n",
    "    [0, 9, 8, 0, 0, 0, 0, 6, 0],\n",
    "    [8, 0, 0, 0, 6, 0, 0, 0, 3],\n",
    "    [4, 0, 0, 8, 0, 3, 0, 0, 1],\n",
    "    [7, 0, 0, 0, 2, 0, 0, 0, 6],\n",
    "    [0, 6, 0, 0, 0, 0, 2, 8, 0],\n",
    "    [0, 0, 0, 4, 1, 9, 0, 0, 5],\n",
    "    [0, 0, 0, 0, 8, 0, 0, 7, 9]\n",
    "]\n",
    "\n",
    "print(\"Original Board:\")\n",
    "print_board(example_board)\n",
    "solved_board = solve_sudoku(example_board)\n",
    "\n",
    "print(\"\\nSolved Sudoku:\")\n",
    "print_board(solved_board)"
   ]
  }
 ],
 "metadata": {
  "kernelspec": {
   "display_name": "Python 3 (ipykernel)",
   "language": "python",
   "name": "python3"
  },
  "language_info": {
   "codemirror_mode": {
    "name": "ipython",
    "version": 3
   },
   "file_extension": ".py",
   "mimetype": "text/x-python",
   "name": "python",
   "nbconvert_exporter": "python",
   "pygments_lexer": "ipython3",
   "version": "3.11.7"
  }
 },
 "nbformat": 4,
 "nbformat_minor": 5
}
