{
 "cells": [
  {
   "cell_type": "markdown",
   "id": "8f7a27c0-990a-4337-9d65-3db3f6b72d38",
   "metadata": {},
   "source": [
    "# Task 1 \n",
    "## Implementing the Fibonacci Sequence Using DP  "
   ]
  },
  {
   "cell_type": "code",
   "execution_count": 1,
   "id": "1e6780ae-0c76-4ed2-bd2e-ac315bcf98f4",
   "metadata": {},
   "outputs": [
    {
     "name": "stdout",
     "output_type": "stream",
     "text": [
      "Fibonacci using Memoization:\n",
      "Fib(30) = 832040\n",
      "\n",
      "Fibonacci using Tabulation:\n",
      "Fib(30) = 832040\n"
     ]
    }
   ],
   "source": [
    "def fibonacci_memo(n, memo={}):\n",
    "    if n <= 1:\n",
    "        return n\n",
    "    if n in memo:\n",
    "        return memo[n]\n",
    "    memo[n] = fibonacci_memo(n - 1, memo) + fibonacci_memo(n - 2, memo)\n",
    "    return memo[n]\n",
    "\n",
    "def fibonacci_tab(n):\n",
    "    if n <= 1:\n",
    "        return n\n",
    "    fib = [0] * (n + 1)\n",
    "    fib[1] = 1\n",
    "    for i in range(2, n + 1):\n",
    "        fib[i] = fib[i - 1] + fib[i - 2]\n",
    "    return fib[n]\n",
    "\n",
    "def test_fibonacci():\n",
    "    n = 30\n",
    "    print(\"Fibonacci using Memoization:\")\n",
    "    print(f\"Fib({n}) = {fibonacci_memo(n)}\")\n",
    "    print(\"\\nFibonacci using Tabulation:\")\n",
    "    print(f\"Fib({n}) = {fibonacci_tab(n)}\")\n",
    "\n",
    "test_fibonacci()"
   ]
  },
  {
   "cell_type": "markdown",
   "id": "3c187d70-9213-4cc2-974a-892aaac42df8",
   "metadata": {},
   "source": [
    "# Task 2 \n",
    "## Implementing the Longest Common Subsequence (LCS) Algorithm "
   ]
  },
  {
   "cell_type": "code",
   "execution_count": 2,
   "id": "5a38e2a0-54e9-4f8b-856b-4545c5d502d8",
   "metadata": {},
   "outputs": [
    {
     "name": "stdout",
     "output_type": "stream",
     "text": [
      "LCS Length using Memoization: 4\n",
      "LCS Length using Tabulation: 4\n",
      "Longest Common Subsequence (Tabulation): GTAB\n"
     ]
    }
   ],
   "source": [
    "def lcs_memo(x, y, m, n, memo=None):\n",
    "    if memo is None:\n",
    "        memo = {}\n",
    "    if m == 0 or n == 0:\n",
    "        return 0\n",
    "    if (m, n) in memo:\n",
    "        return memo[(m, n)]\n",
    "    if x[m - 1] == y[n - 1]:\n",
    "        memo[(m, n)] = 1 + lcs_memo(x, y, m - 1, n - 1, memo)\n",
    "    else:\n",
    "        memo[(m, n)] = max(lcs_memo(x, y, m - 1, n, memo), lcs_memo(x, y, m, n - 1, memo))\n",
    "    return memo[(m, n)]\n",
    "\n",
    "def lcs_tab(x, y, m, n):\n",
    "    dp = [[0] * (n + 1) for _ in range(m + 1)]\n",
    "    for i in range(1, m + 1):\n",
    "        for j in range(1, n + 1):\n",
    "            if x[i - 1] == y[j - 1]:\n",
    "                dp[i][j] = 1 + dp[i - 1][j - 1]\n",
    "            else:\n",
    "                dp[i][j] = max(dp[i - 1][j], dp[i][j - 1])\n",
    "    return dp[m][n]\n",
    "\n",
    "def print_lcs(x, y, m, n):\n",
    "    dp = [[0] * (n + 1) for _ in range(m + 1)]\n",
    "    for i in range(1, m + 1):\n",
    "        for j in range(1, n + 1):\n",
    "            if x[i - 1] == y[j - 1]:\n",
    "                dp[i][j] = 1 + dp[i - 1][j - 1]\n",
    "            else:\n",
    "                dp[i][j] = max(dp[i - 1][j], dp[i][j - 1])\n",
    "    lcs = []\n",
    "    i, j = m, n\n",
    "    while i > 0 and j > 0:\n",
    "        if x[i - 1] == y[j - 1]:\n",
    "            lcs.append(x[i - 1])\n",
    "            i -= 1\n",
    "            j -= 1\n",
    "        elif dp[i - 1][j] >= dp[i][j - 1]:\n",
    "            i -= 1\n",
    "        else:\n",
    "            j -= 1\n",
    "    return ''.join(reversed(lcs))\n",
    "\n",
    "def test_lcs():\n",
    "    x = \"AGGTAB\"\n",
    "    y = \"GXTXAYB\"\n",
    "    m = len(x)\n",
    "    n = len(y)\n",
    "    print(\"LCS Length using Memoization:\", lcs_memo(x, y, m, n))\n",
    "    print(\"LCS Length using Tabulation:\", lcs_tab(x, y, m, n))\n",
    "    print(\"Longest Common Subsequence (Tabulation):\", print_lcs(x, y, m, n))\n",
    "\n",
    "test_lcs()"
   ]
  },
  {
   "cell_type": "markdown",
   "id": "342e14f9-9d10-4651-839c-b10868b377ff",
   "metadata": {},
   "source": [
    "# Task 3 \n",
    "## Implementing the 0/1 Knapsack Problem "
   ]
  },
  {
   "cell_type": "code",
   "execution_count": 3,
   "id": "62a08fba-a62a-4eb6-ad24-60c7312b02bd",
   "metadata": {},
   "outputs": [
    {
     "name": "stdout",
     "output_type": "stream",
     "text": [
      "Maximum value in Knapsack: 220\n"
     ]
    }
   ],
   "source": [
    "def knapsack_01(weights, values, W, n):\n",
    "    dp = [[0] * (W + 1) for _ in range(n + 1)]\n",
    "    for i in range(1, n + 1):\n",
    "        for w in range(1, W + 1):\n",
    "            if weights[i - 1] <= w:\n",
    "                dp[i][w] = max(dp[i - 1][w], dp[i - 1][w - weights[i - 1]] + values[i - 1])\n",
    "            else:\n",
    "                dp[i][w] = dp[i - 1][w]\n",
    "    return dp[n][W]\n",
    "\n",
    "def test_knapsack():\n",
    "    values = [60, 100, 120]\n",
    "    weights = [10, 20, 30]\n",
    "    W = 50\n",
    "    n = len(values)\n",
    "    max_value = knapsack_01(weights, values, W, n)\n",
    "    print(f\"Maximum value in Knapsack: {max_value}\")\n",
    "\n",
    "test_knapsack()"
   ]
  }
 ],
 "metadata": {
  "kernelspec": {
   "display_name": "Python 3 (ipykernel)",
   "language": "python",
   "name": "python3"
  },
  "language_info": {
   "codemirror_mode": {
    "name": "ipython",
    "version": 3
   },
   "file_extension": ".py",
   "mimetype": "text/x-python",
   "name": "python",
   "nbconvert_exporter": "python",
   "pygments_lexer": "ipython3",
   "version": "3.11.7"
  }
 },
 "nbformat": 4,
 "nbformat_minor": 5
}
