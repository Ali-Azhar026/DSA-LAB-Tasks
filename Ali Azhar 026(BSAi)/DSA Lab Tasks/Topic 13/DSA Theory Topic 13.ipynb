{
 "cells": [
  {
   "cell_type": "markdown",
   "id": "f6ebd332-a0f3-4fa9-a791-453e56f663c3",
   "metadata": {},
   "source": [
    "# Task 1 \n",
    "## Implementing Activity Selection Algorithm"
   ]
  },
  {
   "cell_type": "code",
   "execution_count": 1,
   "id": "03cba5dc-9ded-4182-8819-c9bab0db14cc",
   "metadata": {},
   "outputs": [
    {
     "name": "stdout",
     "output_type": "stream",
     "text": [
      "Selected activities (start, end):\n",
      "(1, 2)\n",
      "(3, 4)\n",
      "(5, 7)\n",
      "(8, 9)\n"
     ]
    }
   ],
   "source": [
    "def activity_selection(start_times, end_times):\n",
    "    n = len(start_times)\n",
    "    selected_activities = []\n",
    "    activities = [(start_times[i], end_times[i]) for i in range(n)]\n",
    "    activities.sort(key=lambda x: x[1])\n",
    "    selected_activities.append(activities[0])\n",
    "    last_end_time = activities[0][1]\n",
    "    for i in range(1, n):\n",
    "        if activities[i][0] >= last_end_time:\n",
    "            selected_activities.append(activities[i])\n",
    "            last_end_time = activities[i][1]\n",
    "    return selected_activities\n",
    "\n",
    "def test_activity_selection():\n",
    "    start_times = [1, 3, 0, 5, 8, 5]\n",
    "    end_times = [2, 4, 6, 7, 9, 9]\n",
    "    selected_activities = activity_selection(start_times, end_times)\n",
    "    print(\"Selected activities (start, end):\")\n",
    "    for activity in selected_activities:\n",
    "        print(activity)\n",
    "\n",
    "test_activity_selection()"
   ]
  },
  {
   "cell_type": "markdown",
   "id": "458420ab-023f-4f54-84fe-f564a53c549a",
   "metadata": {},
   "source": [
    "# Task 2 \n",
    "## Implementing Huffman Coding for Data Compression "
   ]
  },
  {
   "cell_type": "code",
   "execution_count": 2,
   "id": "4b4c957e-3310-4ecf-892b-2ac5f0067516",
   "metadata": {},
   "outputs": [
    {
     "name": "stdout",
     "output_type": "stream",
     "text": [
      "Huffman Codes:\n",
      "'n': 000\n",
      "'s': 0010\n",
      "'m': 0011\n",
      "'h': 0100\n",
      "'t': 01010\n",
      "'d': 01011\n",
      "'r': 01100\n",
      "'l': 01101\n",
      "'x': 01110\n",
      "'c': 01111\n",
      "'p': 10000\n",
      "'g': 10001\n",
      "'i': 1001\n",
      "' ': 101\n",
      "'u': 11000\n",
      "'o': 11001\n",
      "'f': 1101\n",
      "'e': 1110\n",
      "'a': 1111\n",
      "\n",
      "Original size: 312 bits\n",
      "Compressed size: 157 bits\n",
      "Compression ratio: 1.99\n",
      "\n",
      "Encoded String: 0101001001001001010110010010101111100010111100111011110011100000110111101011101110010110010101001100011011101001111110001011110000011111100101011100100010001\n"
     ]
    }
   ],
   "source": [
    "import heapq\n",
    "from collections import defaultdict\n",
    "\n",
    "class Node:\n",
    "    def __init__(self, char, freq):\n",
    "        self.char = char\n",
    "        self.freq = freq\n",
    "        self.left = None\n",
    "        self.right = None\n",
    "    \n",
    "    def __lt__(self, other):\n",
    "        return self.freq < other.freq\n",
    "\n",
    "def build_huffman_tree(freqs):\n",
    "    heap = [Node(char, freq) for char, freq in freqs.items()]\n",
    "    heapq.heapify(heap)\n",
    "    while len(heap) > 1:\n",
    "        left = heapq.heappop(heap)\n",
    "        right = heapq.heappop(heap)\n",
    "        merged = Node(None, left.freq + right.freq)\n",
    "        merged.left = left\n",
    "        merged.right = right\n",
    "        heapq.heappush(heap, merged)\n",
    "    return heap[0]\n",
    "\n",
    "def generate_huffman_codes(root, code=\"\"):\n",
    "    if root is None:\n",
    "        return {}\n",
    "    if root.char is not None:\n",
    "        return {root.char: code}\n",
    "    codes = {}\n",
    "    codes.update(generate_huffman_codes(root.left, code + \"0\"))\n",
    "    codes.update(generate_huffman_codes(root.right, code + \"1\"))\n",
    "    return codes\n",
    "\n",
    "def huffman_encoding(input_string):\n",
    "    freq = defaultdict(int)\n",
    "    for char in input_string:\n",
    "        freq[char] += 1\n",
    "    root = build_huffman_tree(freq)\n",
    "    huffman_codes = generate_huffman_codes(root)\n",
    "    encoded_string = ''.join(huffman_codes[char] for char in input_string)\n",
    "    return huffman_codes, encoded_string\n",
    "\n",
    "def calculate_compression_ratio(input_string, encoded_string):\n",
    "    original_bits = len(input_string) * 8\n",
    "    compressed_bits = len(encoded_string)\n",
    "    ratio = original_bits / compressed_bits\n",
    "    return original_bits, compressed_bits, ratio\n",
    "\n",
    "def test_huffman():\n",
    "    input_string = \"this is an example for huffman encoding\"\n",
    "    huffman_codes, encoded_string = huffman_encoding(input_string)\n",
    "    print(\"Huffman Codes:\")\n",
    "    for char, code in huffman_codes.items():\n",
    "        print(f\"'{char}': {code}\")\n",
    "    original_bits, compressed_bits, ratio = calculate_compression_ratio(input_string, encoded_string)\n",
    "    print(f\"\\nOriginal size: {original_bits} bits\")\n",
    "    print(f\"Compressed size: {compressed_bits} bits\")\n",
    "    print(f\"Compression ratio: {ratio:.2f}\")\n",
    "    print(f\"\\nEncoded String: {encoded_string}\")\n",
    "\n",
    "test_huffman()"
   ]
  },
  {
   "cell_type": "markdown",
   "id": "e5a72bda-4a75-45aa-b27b-139ab41bfe72",
   "metadata": {},
   "source": [
    "# Task 3 \n",
    "## Implementing Kruskal’s Algorithm for Minimum Spanning Tree) "
   ]
  },
  {
   "cell_type": "code",
   "execution_count": 3,
   "id": "df73463c-26be-4722-b6fa-cee610dbf240",
   "metadata": {},
   "outputs": [
    {
     "name": "stdout",
     "output_type": "stream",
     "text": [
      "Edges in the MST: [(2, 3, 4), (0, 3, 5), (0, 1, 10)]\n",
      "Total weight of the MST: 19\n"
     ]
    }
   ],
   "source": [
    "class DisjointSet:\n",
    "    def __init__(self, n):\n",
    "        self.parent = list(range(n))\n",
    "        self.rank = [0] * n\n",
    "\n",
    "    def find(self, u):\n",
    "        if self.parent[u] != u:\n",
    "            self.parent[u] = self.find(self.parent[u])\n",
    "        return self.parent[u]\n",
    "\n",
    "    def union(self, u, v):\n",
    "        root_u = self.find(u)\n",
    "        root_v = self.find(v)\n",
    "        if root_u != root_v:\n",
    "            if self.rank[root_u] > self.rank[root_v]:\n",
    "                self.parent[root_v] = root_u\n",
    "            elif self.rank[root_u] < self.rank[root_v]:\n",
    "                self.parent[root_u] = root_v\n",
    "            else:\n",
    "                self.parent[root_v] = root_u\n",
    "                self.rank[root_u] += 1\n",
    "\n",
    "def kruskal(n, edges):\n",
    "    edges.sort(key=lambda x: x[2])\n",
    "    ds = DisjointSet(n)\n",
    "    mst = []\n",
    "    total_weight = 0\n",
    "    for u, v, weight in edges:\n",
    "        if ds.find(u) != ds.find(v):\n",
    "            ds.union(u, v)\n",
    "            mst.append((u, v, weight))\n",
    "            total_weight += weight\n",
    "    return mst, total_weight\n",
    "\n",
    "def test_kruskal():\n",
    "    n = 4\n",
    "    edges = [\n",
    "        (0, 1, 10),\n",
    "        (0, 2, 6),\n",
    "        (0, 3, 5),\n",
    "        (1, 3, 15),\n",
    "        (2, 3, 4)\n",
    "    ]\n",
    "    mst, total_weight = kruskal(n, edges)\n",
    "    print(\"Edges in the MST:\", mst)\n",
    "    print(\"Total weight of the MST:\", total_weight)\n",
    "\n",
    "test_kruskal()"
   ]
  }
 ],
 "metadata": {
  "kernelspec": {
   "display_name": "Python 3 (ipykernel)",
   "language": "python",
   "name": "python3"
  },
  "language_info": {
   "codemirror_mode": {
    "name": "ipython",
    "version": 3
   },
   "file_extension": ".py",
   "mimetype": "text/x-python",
   "name": "python",
   "nbconvert_exporter": "python",
   "pygments_lexer": "ipython3",
   "version": "3.11.7"
  }
 },
 "nbformat": 4,
 "nbformat_minor": 5
}
